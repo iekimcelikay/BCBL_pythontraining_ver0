{
 "cells": [
  {
   "cell_type": "markdown",
   "id": "521417a3",
   "metadata": {},
   "source": [
    "### 1.3.1 Variable types\n"
   ]
  },
  {
   "cell_type": "code",
   "execution_count": 1,
   "id": "e89267dc",
   "metadata": {},
   "outputs": [],
   "source": [
    "a =3 ## integer \n",
    "b = 0.5 # float \n",
    "c = \"men\" # string "
   ]
  },
  {
   "cell_type": "code",
   "execution_count": 2,
   "id": "4aec9cfa",
   "metadata": {},
   "outputs": [
    {
     "name": "stdout",
     "output_type": "stream",
     "text": [
      "3\n"
     ]
    }
   ],
   "source": [
    "print(a)"
   ]
  },
  {
   "cell_type": "code",
   "execution_count": 3,
   "id": "3856ca88",
   "metadata": {},
   "outputs": [
    {
     "data": {
      "text/plain": [
       "int"
      ]
     },
     "execution_count": 3,
     "metadata": {},
     "output_type": "execute_result"
    }
   ],
   "source": [
    "type(a)"
   ]
  },
  {
   "cell_type": "code",
   "execution_count": 4,
   "id": "0fb8b130",
   "metadata": {},
   "outputs": [
    {
     "name": "stdout",
     "output_type": "stream",
     "text": [
      "<class 'int'>\n"
     ]
    }
   ],
   "source": [
    "print(type(a))"
   ]
  },
  {
   "cell_type": "code",
   "execution_count": 5,
   "id": "34d109fb",
   "metadata": {},
   "outputs": [
    {
     "name": "stdout",
     "output_type": "stream",
     "text": [
      "5\n",
      "5.0\n",
      "five\n",
      "<class 'int'>\n",
      "<class 'float'>\n",
      "<class 'str'>\n"
     ]
    }
   ],
   "source": [
    "a =5\n",
    "b = 5.0\n",
    "c = \"five\" \n",
    "print(a)\n",
    "print(b)\n",
    "print(c)\n",
    "print(type(a))\n",
    "print(type(b))\n",
    "print(type(c))"
   ]
  },
  {
   "cell_type": "markdown",
   "id": "3cac3d80",
   "metadata": {},
   "source": [
    "Calculate 2 to the power of 5:\n"
   ]
  },
  {
   "cell_type": "code",
   "execution_count": 6,
   "id": "28e0bc74",
   "metadata": {},
   "outputs": [
    {
     "data": {
      "text/plain": [
       "32"
      ]
     },
     "execution_count": 6,
     "metadata": {},
     "output_type": "execute_result"
    }
   ],
   "source": [
    "pow(2,5)"
   ]
  },
  {
   "cell_type": "markdown",
   "id": "540fb48c",
   "metadata": {},
   "source": [
    "__round 7.1 to 7__\n"
   ]
  },
  {
   "cell_type": "code",
   "execution_count": 7,
   "id": "39f04356",
   "metadata": {},
   "outputs": [
    {
     "data": {
      "text/plain": [
       "7.1"
      ]
     },
     "execution_count": 7,
     "metadata": {},
     "output_type": "execute_result"
    }
   ],
   "source": [
    "round(7.1,1)\n"
   ]
  },
  {
   "cell_type": "code",
   "execution_count": 8,
   "id": "3d017c87",
   "metadata": {},
   "outputs": [
    {
     "data": {
      "text/plain": [
       "'7'"
      ]
     },
     "execution_count": 8,
     "metadata": {},
     "output_type": "execute_result"
    }
   ],
   "source": [
    "str(7)"
   ]
  },
  {
   "cell_type": "markdown",
   "id": "ca223925",
   "metadata": {},
   "source": [
    "# build in functions doc"
   ]
  },
  {
   "cell_type": "markdown",
   "id": "20b68631",
   "metadata": {},
   "source": [
    "https://docs.python.org/3/library/functions.html#super"
   ]
  },
  {
   "cell_type": "markdown",
   "id": "f33ca4b4",
   "metadata": {},
   "source": [
    "# string methods doc\n"
   ]
  },
  {
   "cell_type": "markdown",
   "id": "56bbec82",
   "metadata": {},
   "source": [
    "https://www.w3schools.com/python/python_ref_string.asp"
   ]
  },
  {
   "cell_type": "markdown",
   "id": "df611351",
   "metadata": {},
   "source": [
    "`capitalize()` converts the first character to upper case \n",
    "\n",
    "`casefold()` converts string into lower case\n",
    "\n",
    "`center()` returns a centered string\n",
    "\n",
    "`count()` returns the number of times a specified value occurs in a string\n",
    "\n",
    "`encode()` returns an encoded version of the string\n",
    "\n",
    "`endswith()` returns true if the sstring ends with the specified value\n",
    "\n",
    "`find()` searches the string for a specified value and returns the position of where it was found __what's the difference from index()__ \n",
    "\n",
    "`format()` formats specified values in a string # What is the difference from format_map()?\n",
    "`format_map()` fprmats specified values in a string/\n",
    "\n",
    "`index()` searches the string for a specified value and returns the position of where it was found \n",
    "\n",
    "`isalnum()` returns True if all characters in the string are alphanumeric\n",
    "\n",
    "`isalpha()`\n",
    "\n",
    "`isascii()`\n",
    "\n",
    "...\\\n",
    "\n",
    "`rfind()` searches the string for a specified value and returns the last position of where it was found \n",
    "\n",
    "`rindex()` searches the string for a specified value and returns the last position of where it was find \n",
    "\n",
    "`rpartition()` returns a tuple where the string is parted into three parts\n",
    "\n",
    "`rsplit()` splits the string at the specified separator, and returns a list \n",
    "\n",
    "`splitlines()` splits the string at line breaks and returns a list \n",
    "\n",
    "`startswith()` returns true if the string starts with the specified value \n",
    "\n",
    "`strip()` returns a trimmed version of the string \n",
    "\n",
    "`title()` converts the first character of each word to upper case \n",
    "\n",
    "`upper()` Converts a string into upper case \n",
    "\n",
    "`zfill()` fills the string with a specified number of 0 values at the beginning\n",
    "\n",
    "\n"
   ]
  },
  {
   "cell_type": "code",
   "execution_count": null,
   "id": "f214103a",
   "metadata": {},
   "outputs": [],
   "source": []
  }
 ],
 "metadata": {
  "kernelspec": {
   "display_name": "Python 3 (ipykernel)",
   "language": "python",
   "name": "python3"
  },
  "language_info": {
   "codemirror_mode": {
    "name": "ipython",
    "version": 3
   },
   "file_extension": ".py",
   "mimetype": "text/x-python",
   "name": "python",
   "nbconvert_exporter": "python",
   "pygments_lexer": "ipython3",
   "version": "3.9.13"
  }
 },
 "nbformat": 4,
 "nbformat_minor": 5
}
